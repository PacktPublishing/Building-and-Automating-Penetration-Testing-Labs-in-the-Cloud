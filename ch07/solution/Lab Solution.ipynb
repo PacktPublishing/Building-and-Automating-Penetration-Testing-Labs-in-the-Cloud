{
 "cells": [
  {
   "cell_type": "markdown",
   "id": "040864a6",
   "metadata": {},
   "source": [
    "### Setting up a Lambda function that creates a new IAM user with administrator access"
   ]
  },
  {
   "cell_type": "code",
   "execution_count": null,
   "id": "3ba76a9c",
   "metadata": {},
   "outputs": [],
   "source": [
    "import boto3\n",
    "\n",
    "def get_account_id():\n",
    "    sts_client = boto3.client('sts')\n",
    "    response = sts_client.get_caller_identity()\n",
    "    \n",
    "    return response['Account']"
   ]
  },
  {
   "cell_type": "code",
   "execution_count": null,
   "id": "4ce2b5e6",
   "metadata": {},
   "outputs": [],
   "source": [
    "function_name = 'superadmin-iam-creator'\n",
    "role_name = '<LAMBDA ROLE NAME>'\n",
    "role_arn = f'arn:aws:iam::{get_account_id()}:role/{role_name}'"
   ]
  },
  {
   "cell_type": "code",
   "execution_count": null,
   "id": "bbf090ec",
   "metadata": {},
   "outputs": [],
   "source": [
    "import boto3\n",
    "import io\n",
    "import zipfile\n",
    "\n",
    "\n",
    "def create_function(function_name, code, role_arn, handler='lambda_function.handler', runtime='python3.8'):\n",
    "    lambda_client = boto3.client('lambda')\n",
    "    \n",
    "    zip_buffer = io.BytesIO()\n",
    "    with zipfile.ZipFile(zip_buffer, 'w') as zf:\n",
    "        zf.writestr('lambda_function.py', code)\n",
    "\n",
    "    zip_buffer.seek(0)\n",
    "    \n",
    "    response = lambda_client.create_function(\n",
    "        FunctionName=function_name,\n",
    "        Runtime=runtime,\n",
    "        Role=role_arn,\n",
    "        Handler=handler,\n",
    "        Code={\n",
    "            'ZipFile': zip_buffer.read()\n",
    "        }\n",
    "    )\n",
    "\n",
    "    return response['FunctionArn']"
   ]
  },
  {
   "cell_type": "code",
   "execution_count": null,
   "id": "178e49eb",
   "metadata": {},
   "outputs": [],
   "source": [
    "lambda_code = '''\n",
    "import boto3\n",
    "import secrets\n",
    "import string\n",
    "from botocore.exceptions import ClientError\n",
    "\n",
    "iam_client = boto3.client('iam')\n",
    "\n",
    "def generate_random_password(length=16):\n",
    "    characters = string.ascii_letters + string.digits + string.punctuation\n",
    "    password = ''.join(secrets.choice(characters) for _ in range(length))\n",
    "    return password\n",
    "\n",
    "\n",
    "def handler(event, context):\n",
    "    new_username = 'new-iam-user'\n",
    "    \n",
    "    try:\n",
    "        response = iam_client.create_user(UserName=new_username)\n",
    "        print(\"IAM user created successfully.\")\n",
    "    except ClientError as e:\n",
    "        print(\"Error creating IAM user:\", e)\n",
    "        return {\n",
    "            'statusCode': 500,\n",
    "            'body': 'Error creating IAM user'\n",
    "        }\n",
    "    \n",
    "    try:\n",
    "        iam_client.attach_user_policy(\n",
    "            UserName=new_username,\n",
    "            PolicyArn='arn:aws:iam::aws:policy/AdministratorAccess'\n",
    "        )\n",
    "        print(\"Admin access policy attached to the IAM user.\")\n",
    "    except ClientError as e:\n",
    "        print(\"Error attaching admin access policy:\", e)\n",
    "        return {\n",
    "            'statusCode': 500,\n",
    "            'body': 'Error attaching admin access policy'\n",
    "        }\n",
    "    \n",
    "    try:\n",
    "        response = iam_client.create_access_key(UserName=new_username)\n",
    "        access_key = response['AccessKey']['AccessKeyId']\n",
    "        secret_key = response['AccessKey']['SecretAccessKey']\n",
    "        print(\"Access key pair generated for the IAM user.\")\n",
    "    except ClientError as e:\n",
    "        print(\"Error generating access key pair:\", e)\n",
    "        return {\n",
    "            'statusCode': 500,\n",
    "            'body': 'Error generating access key pair'\n",
    "        }\n",
    "    \n",
    "    password = generate_random_password()\n",
    "    \n",
    "    try:\n",
    "        response = iam_client.create_login_profile(\n",
    "            UserName=new_username,\n",
    "            Password=password,\n",
    "            PasswordResetRequired=False\n",
    "        )\n",
    "        print(\"Login profile created for the IAM user.\")\n",
    "    except ClientError as e:\n",
    "        print(\"Error creating login profile:\", e)\n",
    "        return {\n",
    "            'statusCode': 500,\n",
    "            'body': 'Error creating login profile'\n",
    "        }\n",
    "    \n",
    "    return {\n",
    "        'statusCode': 200,\n",
    "        'body': {\n",
    "            'username': new_username,\n",
    "            'access_key': access_key,\n",
    "            'secret_key': secret_key,\n",
    "            'password': password\n",
    "        }\n",
    "    }\n",
    "'''\n",
    "\n",
    "\n",
    "\n",
    "create_function(function_name=function_name,\n",
    "                code=lambda_code,\n",
    "                role_arn=role_arn)"
   ]
  },
  {
   "cell_type": "markdown",
   "id": "61b46f38",
   "metadata": {},
   "source": [
    "### Invoking the created Lambda function"
   ]
  },
  {
   "cell_type": "code",
   "execution_count": null,
   "id": "7dc80220",
   "metadata": {},
   "outputs": [],
   "source": [
    "import boto3\n",
    "import json\n",
    "\n",
    "\n",
    "def invoke_function(function_name, payload = {}):\n",
    "    lambda_client = boto3.client('lambda')\n",
    "\n",
    "    response = lambda_client.invoke(\n",
    "        FunctionName=function_name,\n",
    "        Payload=bytes(json.dumps(payload), 'utf-8')\n",
    "    )\n",
    "\n",
    "    result = response['Payload'].read().decode('utf-8')\n",
    "    return result"
   ]
  },
  {
   "cell_type": "code",
   "execution_count": null,
   "id": "de3ca7a0",
   "metadata": {},
   "outputs": [],
   "source": [
    "result = invoke_function(function_name)\n",
    "result"
   ]
  },
  {
   "cell_type": "markdown",
   "id": "13d5d9af",
   "metadata": {},
   "source": [
    "### Deleting the Lambda function"
   ]
  },
  {
   "cell_type": "code",
   "execution_count": null,
   "id": "985af95d",
   "metadata": {},
   "outputs": [],
   "source": [
    "import boto3\n",
    "from botocore.exceptions import ClientError\n",
    "\n",
    "\n",
    "def delete_function(function_name):\n",
    "    lambda_client = boto3.client('lambda')\n",
    "    success = False\n",
    "\n",
    "    try:\n",
    "        lambda_client.delete_function(FunctionName=function_name)\n",
    "        success = True\n",
    "    except ClientError as e:\n",
    "        print(f\"Error deleting Lambda function '{function_name}': {e}\")\n",
    "        \n",
    "    return success"
   ]
  },
  {
   "cell_type": "code",
   "execution_count": null,
   "id": "72fe1530",
   "metadata": {},
   "outputs": [],
   "source": [
    "delete_function(function_name)"
   ]
  }
 ],
 "metadata": {
  "kernelspec": {
   "display_name": "conda_python3",
   "language": "python",
   "name": "conda_python3"
  },
  "language_info": {
   "codemirror_mode": {
    "name": "ipython",
    "version": 3
   },
   "file_extension": ".py",
   "mimetype": "text/x-python",
   "name": "python",
   "nbconvert_exporter": "python",
   "pygments_lexer": "ipython3",
   "version": "3.10.10"
  }
 },
 "nbformat": 4,
 "nbformat_minor": 5
}
