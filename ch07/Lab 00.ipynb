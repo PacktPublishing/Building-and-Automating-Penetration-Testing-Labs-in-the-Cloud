{
 "cells": [
  {
   "cell_type": "markdown",
   "id": "e26641c6",
   "metadata": {},
   "source": [
    "### Install Hugging Face Transformers"
   ]
  },
  {
   "cell_type": "code",
   "execution_count": null,
   "id": "69b78879",
   "metadata": {},
   "outputs": [],
   "source": [
    "!pip3 install transformers==4.4.2"
   ]
  },
  {
   "cell_type": "markdown",
   "id": "c1d2ba07",
   "metadata": {},
   "source": [
    "### Download Pre-trained Model and Generate a model.tar.gz file"
   ]
  },
  {
   "cell_type": "code",
   "execution_count": null,
   "id": "6b77bd5f",
   "metadata": {},
   "outputs": [],
   "source": [
    "from transformers import AutoModelForSequenceClassification"
   ]
  },
  {
   "cell_type": "code",
   "execution_count": null,
   "id": "8da53181",
   "metadata": {},
   "outputs": [],
   "source": [
    "import tarfile\n",
    "\n",
    "def generate_model_targz_file():\n",
    "    pretrained = \"distilbert-base-uncased-finetuned-sst-2-english\"\n",
    "    pretrained_model = AutoModelForSequenceClassification.from_pretrained(pretrained)\n",
    "    pretrained_model.save_pretrained(save_directory=\".\")\n",
    "    \n",
    "    tar = tarfile.open(\"model.tar.gz\", \"w:gz\")\n",
    "    tar.add(\"pytorch_model.bin\")\n",
    "    tar.add(\"config.json\")\n",
    "    tar.close()"
   ]
  },
  {
   "cell_type": "code",
   "execution_count": null,
   "id": "e9220987",
   "metadata": {},
   "outputs": [],
   "source": [
    "generate_targz_file()"
   ]
  },
  {
   "cell_type": "code",
   "execution_count": null,
   "id": "b047bd8b",
   "metadata": {},
   "outputs": [],
   "source": [
    "%%bash\n",
    "\n",
    "rm pytorch_model.bin\n",
    "rm config.json"
   ]
  },
  {
   "cell_type": "markdown",
   "id": "b0e7e781",
   "metadata": {},
   "source": [
    "### Upload model.tar.gz file to Amazon S3"
   ]
  },
  {
   "cell_type": "code",
   "execution_count": null,
   "id": "1de8cc6c",
   "metadata": {},
   "outputs": [],
   "source": [
    "s3_bucket = \"<INSERT NEW S3 BUCKET NAME>\"\n",
    "prefix = \"pretrained\""
   ]
  },
  {
   "cell_type": "code",
   "execution_count": null,
   "id": "4659a1f3",
   "metadata": {},
   "outputs": [],
   "source": [
    "!aws s3 mb s3://{s3_bucket}"
   ]
  },
  {
   "cell_type": "code",
   "execution_count": null,
   "id": "de5d8e18",
   "metadata": {},
   "outputs": [],
   "source": [
    "model_data = \"s3://{}/{}/model/model.tar.gz\".format(s3_bucket, prefix)"
   ]
  },
  {
   "cell_type": "code",
   "execution_count": null,
   "id": "eda71379",
   "metadata": {},
   "outputs": [],
   "source": [
    "!aws s3 cp model.tar.gz {model_data}"
   ]
  },
  {
   "cell_type": "markdown",
   "id": "73f0895c",
   "metadata": {},
   "source": [
    "### Deploy pre-trained model to a SageMaker real-time inference endpoint"
   ]
  },
  {
   "cell_type": "code",
   "execution_count": null,
   "id": "1525a0bf",
   "metadata": {},
   "outputs": [],
   "source": [
    "from sagemaker import get_execution_role \n",
    "from sagemaker.serializers import JSONSerializer\n",
    "from sagemaker.deserializers import JSONDeserializer\n",
    "from sagemaker.pytorch.model import PyTorchModel"
   ]
  },
  {
   "cell_type": "code",
   "execution_count": null,
   "id": "7e91806a",
   "metadata": {},
   "outputs": [],
   "source": [
    "execution_role = get_execution_role()\n",
    "source_dir=\"scripts\"\n",
    "entry_point = \"inference.py\"\n",
    "framework_version = \"1.6.0\"\n",
    "endpoint_name = \"model-endpoint\"\n",
    "instance_type = \"ml.m5.xlarge\""
   ]
  },
  {
   "cell_type": "code",
   "execution_count": null,
   "id": "a54a878b",
   "metadata": {},
   "outputs": [],
   "source": [
    "model = PyTorchModel(\n",
    "    model_data=model_data, \n",
    "    role=execution_role, \n",
    "    source_dir=source_dir,\n",
    "    entry_point=entry_point, \n",
    "    framework_version=framework_version,\n",
    "    py_version=\"py3\"\n",
    ")\n",
    "\n",
    "predictor = model.deploy(\n",
    "    instance_type=instance_type, \n",
    "    initial_instance_count=1,\n",
    "    serializer=JSONSerializer(),\n",
    "    deserializer=JSONDeserializer(),\n",
    "    endpoint_name=endpoint_name\n",
    ")"
   ]
  },
  {
   "cell_type": "markdown",
   "id": "6bb3d327",
   "metadata": {},
   "source": [
    "### Perform sample predictions"
   ]
  },
  {
   "cell_type": "code",
   "execution_count": null,
   "id": "fec00dbc",
   "metadata": {},
   "outputs": [],
   "source": [
    "payload = {\n",
    "    \"text\": \"I love building penetration testing labs!\"\n",
    "}\n",
    "\n",
    "predictor.predict(payload)"
   ]
  },
  {
   "cell_type": "code",
   "execution_count": null,
   "id": "45f22cf9",
   "metadata": {},
   "outputs": [],
   "source": [
    "from time import sleep\n",
    "\n",
    "statements = [\n",
    "    \"You're doing an amazing job! Keep up the great work!\",\n",
    "    \"Your positive attitude is contagious and inspiring!\",\n",
    "    \"You have a unique talent that shines brightly. Keep embracing your strengths and achieving great things!\",\n",
    "    \"I understand that things didn't go as planned.\",\n",
    "    \"I'm sorry to hear about your disappointment.\"\n",
    "]\n",
    "\n",
    "for statement in statements:\n",
    "    payload = {\n",
    "        \"text\": statement\n",
    "    }\n",
    "\n",
    "    result = predictor.predict(payload)\n",
    "    print(result + \": \" + statement)\n",
    "    sleep(1)"
   ]
  },
  {
   "cell_type": "markdown",
   "id": "c51d5c09",
   "metadata": {},
   "source": [
    "### Transfer ML inference endpoint invoke script to AWS Lambda"
   ]
  },
  {
   "cell_type": "code",
   "execution_count": null,
   "id": "145ecf77",
   "metadata": {},
   "outputs": [],
   "source": [
    "import boto3\n",
    "import json\n",
    "\n",
    "sagemaker_client = boto3.client('sagemaker-runtime')\n",
    "\n",
    "\n",
    "def predict_using_boto3_client(endpoint_name, statement):\n",
    "    payload = {\n",
    "        \"text\": statement\n",
    "    }\n",
    "\n",
    "    response = sagemaker_client.invoke_endpoint(\n",
    "        EndpointName=endpoint_name,\n",
    "        ContentType='application/json',\n",
    "        Body=json.dumps(payload)\n",
    "    )\n",
    "\n",
    "    result = json.loads(response['Body'].read().decode('utf-8'))\n",
    "    return result"
   ]
  },
  {
   "cell_type": "code",
   "execution_count": null,
   "id": "1d0b2959",
   "metadata": {},
   "outputs": [],
   "source": [
    "from time import sleep\n",
    "\n",
    "statements = [\n",
    "    \"You're doing an amazing job! Keep up the great work!\",\n",
    "    \"Your positive attitude is contagious and inspiring!\",\n",
    "    \"You have a unique talent that shines brightly. Keep embracing your strengths and achieving great things!\",\n",
    "    \"I understand that things didn't go as planned.\",\n",
    "    \"I'm sorry to hear about your disappointment.\"\n",
    "]\n",
    "\n",
    "for statement in statements:\n",
    "    result = predict_using_boto3_client(endpoint_name, statement)\n",
    "    print(result + \": \" + statement)\n",
    "    sleep(1)"
   ]
  },
  {
   "cell_type": "code",
   "execution_count": null,
   "id": "4b4cfcd6",
   "metadata": {},
   "outputs": [],
   "source": [
    "import boto3\n",
    "\n",
    "def get_account_id():\n",
    "    sts_client = boto3.client('sts')\n",
    "    response = sts_client.get_caller_identity()\n",
    "    \n",
    "    return response['Account']"
   ]
  },
  {
   "cell_type": "markdown",
   "id": "07351e27",
   "metadata": {},
   "source": [
    "**NOTE**: Here, we use a Lambda execution role with the following IAM managed policies:\n",
    "\n",
    "- `IAMFullAccess`\n",
    "- `AmazonSageMakerFullAccess`"
   ]
  },
  {
   "cell_type": "code",
   "execution_count": null,
   "id": "0d4120f8",
   "metadata": {},
   "outputs": [],
   "source": [
    "function_name = 'sagemaker-invoker'\n",
    "role_name = '<LAMBDA ROLE NAME>'\n",
    "role_arn = f'arn:aws:iam::{get_account_id()}:role/{role_name}'"
   ]
  },
  {
   "cell_type": "code",
   "execution_count": null,
   "id": "abbd6445",
   "metadata": {},
   "outputs": [],
   "source": [
    "import boto3\n",
    "import io\n",
    "import zipfile\n",
    "\n",
    "\n",
    "def create_function(function_name, code, role_arn, handler='lambda_function.handler', runtime='python3.8'):\n",
    "    lambda_client = boto3.client('lambda')\n",
    "    \n",
    "    zip_buffer = io.BytesIO()\n",
    "    with zipfile.ZipFile(zip_buffer, 'w') as zf:\n",
    "        zf.writestr('lambda_function.py', code)\n",
    "\n",
    "    zip_buffer.seek(0)\n",
    "    \n",
    "    response = lambda_client.create_function(\n",
    "        FunctionName=function_name,\n",
    "        Runtime=runtime,\n",
    "        Role=role_arn,\n",
    "        Handler=handler,\n",
    "        Code={\n",
    "            'ZipFile': zip_buffer.read()\n",
    "        }\n",
    "    )\n",
    "\n",
    "    return response['FunctionArn']"
   ]
  },
  {
   "cell_type": "code",
   "execution_count": null,
   "id": "9e28dd92",
   "metadata": {},
   "outputs": [],
   "source": [
    "lambda_code = '''\n",
    "import boto3\n",
    "import json\n",
    "\n",
    "sagemaker_client = boto3.client('sagemaker-runtime')\n",
    "\n",
    "\n",
    "def predict_using_boto3_client(endpoint_name, statement):\n",
    "    payload = {\n",
    "        \"text\": statement\n",
    "    }\n",
    "\n",
    "    response = sagemaker_client.invoke_endpoint(\n",
    "        EndpointName=endpoint_name,\n",
    "        ContentType='application/json',\n",
    "        Body=json.dumps(payload)\n",
    "    )\n",
    "\n",
    "    result = json.loads(response['Body'].read().decode('utf-8'))\n",
    "    return result\n",
    "    \n",
    "    \n",
    "def handler(event, context):\n",
    "    endpoint_name = event.get('endpoint_name', None)\n",
    "    statement = event.get('statement', None)\n",
    "    \n",
    "    result = predict_using_boto3_client(endpoint_name=endpoint_name,\n",
    "                                        statement=statement)\n",
    "    \n",
    "    return {\n",
    "        'statusCode': 200,\n",
    "        'body': result\n",
    "    }\n",
    "'''\n",
    "\n",
    "\n",
    "create_function(function_name=function_name,\n",
    "                code=lambda_code,\n",
    "                role_arn=role_arn)"
   ]
  },
  {
   "cell_type": "markdown",
   "id": "b859cd53",
   "metadata": {},
   "source": [
    "### Invoke the Lambda Function (which invokes a SageMaker endpoint)"
   ]
  },
  {
   "cell_type": "code",
   "execution_count": null,
   "id": "fb7d2ca7",
   "metadata": {},
   "outputs": [],
   "source": [
    "import boto3\n",
    "import json\n",
    "\n",
    "\n",
    "def invoke_function(function_name, payload = {}):\n",
    "    lambda_client = boto3.client('lambda')\n",
    "\n",
    "    response = lambda_client.invoke(\n",
    "        FunctionName=function_name,\n",
    "        Payload=bytes(json.dumps(payload), 'utf-8')\n",
    "    )\n",
    "\n",
    "    result = response['Payload'].read().decode('utf-8')\n",
    "    return result"
   ]
  },
  {
   "cell_type": "code",
   "execution_count": null,
   "id": "db2b7051",
   "metadata": {},
   "outputs": [],
   "source": [
    "payload = {\n",
    "    'endpoint_name': endpoint_name,\n",
    "    'statement': \"I love building penetration testing labs!\"\n",
    "}\n",
    "\n",
    "result = invoke_function(function_name, payload=payload)\n",
    "result"
   ]
  },
  {
   "cell_type": "markdown",
   "id": "116e7f6e",
   "metadata": {},
   "source": [
    "### Cleaning Up"
   ]
  },
  {
   "cell_type": "code",
   "execution_count": null,
   "id": "30ef31fe",
   "metadata": {},
   "outputs": [],
   "source": [
    "import boto3\n",
    "from botocore.exceptions import ClientError\n",
    "\n",
    "\n",
    "def delete_function(function_name):\n",
    "    lambda_client = boto3.client('lambda')\n",
    "    success = False\n",
    "\n",
    "    try:\n",
    "        lambda_client.delete_function(FunctionName=function_name)\n",
    "        success = True\n",
    "    except ClientError as e:\n",
    "        print(f\"Error deleting Lambda function '{function_name}': {e}\")\n",
    "        \n",
    "    return success"
   ]
  },
  {
   "cell_type": "code",
   "execution_count": null,
   "id": "fd3b2e3b",
   "metadata": {},
   "outputs": [],
   "source": [
    "delete_function(function_name)"
   ]
  },
  {
   "cell_type": "code",
   "execution_count": null,
   "id": "9eb42423",
   "metadata": {},
   "outputs": [],
   "source": [
    "predictor.delete_endpoint()"
   ]
  }
 ],
 "metadata": {
  "kernelspec": {
   "display_name": "conda_pytorch_p39",
   "language": "python",
   "name": "conda_pytorch_p39"
  },
  "language_info": {
   "codemirror_mode": {
    "name": "ipython",
    "version": 3
   },
   "file_extension": ".py",
   "mimetype": "text/x-python",
   "name": "python",
   "nbconvert_exporter": "python",
   "pygments_lexer": "ipython3",
   "version": "3.9.15"
  }
 },
 "nbformat": 4,
 "nbformat_minor": 5
}
